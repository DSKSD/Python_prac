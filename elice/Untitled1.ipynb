{
 "cells": [
  {
   "cell_type": "code",
   "execution_count": null,
   "metadata": {
    "collapsed": true
   },
   "outputs": [],
   "source": [
    "def get_wine_list(lst):\n",
    "    def max_ind(lst):\n",
    "        res = 0\n",
    "        for idx, elem in enumerate(lst):\n",
    "            if elem > lst[res]:\n",
    "                res = idx\n",
    "        return res\n",
    "    \n",
    "    def get_part_sum(lst, idx_lst):\n",
    "        return sum([elem for idx, elem in enumerate(lst) if idx in idx_lst])\n",
    "    \n",
    "    if len(lst) <= 2:\n",
    "        return [idx+1 for idx in range(len(lst))]\n",
    "    elif len(lst) == 3:\n",
    "        case = max_ind([lst[0]+lst[1], lst[0]+lst[2], lst[1]+lst[2]])\n",
    "        if case == 0:\n",
    "            return [1,2]\n",
    "        elif case == 1:\n",
    "            return [1,3]\n",
    "        else:\n",
    "            return [2,3]\n",
    "    else:\n",
    "        res = [[1], [1,2], get_wine_list(lst[:3])]\n",
    "        for i in range(3, len(lst)):\n",
    "            case = max_ind([get_part_sum(lst, res[i-3])+lst[i-1]+lst[i], \n",
    "                            get_part_sum(lst, res[i-2])+lst[i], \n",
    "                            get_part_sum(lst, res[i-1])])\n",
    "            if case == 0:\n",
    "                res.append(res[i-3]+[i, i+1])\n",
    "            elif case == 1:\n",
    "                res.append(res[i-2]+[i+1])\n",
    "            else:\n",
    "                res.append(res[i-1])\n",
    "        return res[-1]\n",
    "    \n",
    "def main():\n",
    "    n = int(input())\n",
    "    tmp = []\n",
    "    for i in range(n):\n",
    "        tmp.append(int(input()))\n",
    "        \n",
    "    res = get_wine_list(tmp)\n",
    "    for elem in res:\n",
    "        print(elem)\n",
    "    \n",
    "    \n",
    "if __name__ == '__main__':\n",
    "    main()"
   ]
  }
 ],
 "metadata": {
  "kernelspec": {
   "display_name": "Python 2",
   "language": "python",
   "name": "python2"
  },
  "language_info": {
   "codemirror_mode": {
    "name": "ipython",
    "version": 2
   },
   "file_extension": ".py",
   "mimetype": "text/x-python",
   "name": "python",
   "nbconvert_exporter": "python",
   "pygments_lexer": "ipython2",
   "version": "2.7.6"
  }
 },
 "nbformat": 4,
 "nbformat_minor": 1
}
