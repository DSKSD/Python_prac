{
 "cells": [
  {
   "cell_type": "code",
   "execution_count": 2,
   "metadata": {
    "collapsed": false
   },
   "outputs": [
    {
     "name": "stdout",
     "output_type": "stream",
     "text": [
      "'wwbb'\n",
      "['w', 'w', 'b', 'b']\n"
     ]
    }
   ],
   "source": [
    "def input2tree(given_input):\n",
    "    buffer = [ch for ch in given_input]\n",
    "\n",
    "    def _build(tree, buffer):\n",
    "        while buffer:\n",
    "            alphabet = buffer.pop(0)\n",
    "            if alphabet == 'x':\n",
    "                tree.append(_build([], buffer))\n",
    "            else:\n",
    "                tree.append(alphabet)\n",
    "\n",
    "            if len(tree) == 4:\n",
    "                break\n",
    "\n",
    "        return tree\n",
    "\n",
    "    return_tree = _build([], buffer)\n",
    "\n",
    "    return return_tree\n",
    "\n",
    "def read_input():\n",
    "    data = input().strip()\n",
    "    return (data)\n",
    "\n",
    "def main():\n",
    "    given_input = read_input()\n",
    "\n",
    "    if given_input == 'w' or given_input == 'b':\n",
    "        print (given_input)\n",
    "    else:    \n",
    "        tree = input2tree(given_input)\n",
    "        print (tree)        \n",
    "\n",
    "if __name__ == '__main__':\n",
    "    main()"
   ]
  },
  {
   "cell_type": "code",
   "execution_count": null,
   "metadata": {
    "collapsed": true
   },
   "outputs": [],
   "source": []
  }
 ],
 "metadata": {
  "kernelspec": {
   "display_name": "Python 2",
   "language": "python",
   "name": "python2"
  },
  "language_info": {
   "codemirror_mode": {
    "name": "ipython",
    "version": 2
   },
   "file_extension": ".py",
   "mimetype": "text/x-python",
   "name": "python",
   "nbconvert_exporter": "python",
   "pygments_lexer": "ipython2",
   "version": "2.7.6"
  }
 },
 "nbformat": 4,
 "nbformat_minor": 1
}
