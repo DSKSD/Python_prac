{
 "cells": [
  {
   "cell_type": "markdown",
   "metadata": {},
   "source": [
    "# dp "
   ]
  },
  {
   "cell_type": "markdown",
   "metadata": {},
   "source": [
    "## 계단 오르기 "
   ]
  },
  {
   "cell_type": "markdown",
   "metadata": {},
   "source": [
    "Table(i) : i칸까지 도달 할 수 있는 경우의 수\n",
    "<br>\n",
    "<br>\n",
    "점화식 : T(n) = T(n-1)+T(n-2)+T(n-3)  (1칸만 더 가면 되는, 2칸만 더 가면 되는, 3칸만 더 가면 되는)"
   ]
  },
  {
   "cell_type": "code",
   "execution_count": 8,
   "metadata": {
    "collapsed": false
   },
   "outputs": [],
   "source": [
    "def stair(n):\n",
    "    T = [0 for _ in range(n+1)]\n",
    "    T[0] = 0; T[1] = 1; T[2] = 2; T[3]=4;\n",
    "    \n",
    "    if n >= 4:\n",
    "        for i in range(4,n+1):\n",
    "            T[i] = T[i-1] + T[i-2] + T[i-3]\n",
    "    \n",
    "    return T[-1]"
   ]
  },
  {
   "cell_type": "code",
   "execution_count": 10,
   "metadata": {
    "collapsed": false
   },
   "outputs": [
    {
     "data": {
      "text/plain": [
       "24"
      ]
     },
     "execution_count": 10,
     "metadata": {},
     "output_type": "execute_result"
    }
   ],
   "source": [
    "stair(6)"
   ]
  },
  {
   "cell_type": "markdown",
   "metadata": {},
   "source": [
    "## 포도주 마시기 "
   ]
  },
  {
   "cell_type": "markdown",
   "metadata": {},
   "source": [
    "T(i) = 1~i까지의 포도주가 있을 때, 마시는 양의 최댓값 <br><br>\n",
    "T(i) = max(T(i-1), a(i) + T(i-2), a(i) + a(i-1) + T(i-3))"
   ]
  },
  {
   "cell_type": "markdown",
   "metadata": {},
   "source": [
    "## 특별한 이진수"
   ]
  },
  {
   "cell_type": "markdown",
   "metadata": {},
   "source": [
    "T(i) = 길이가 i까지 고려했을 때 특별한 이진수의 수 <br><br>\n",
    "T(i) = 일단 T(i-1)에다가 0을 붙이는 경우는 가능, 1을 붙이려면 T(i-1) 중 0으로 끝난 갯수를 알아야 함( T(i-2) 를 보면 된다!!)<br><br>\n",
    "\n",
    "4<br>\n",
    "10000<br>\n",
    "10010<br>\n",
    "10100<br>\n",
    "<br>\n",
    "100__01__  전전꺼에다가 01을 붙인다고 생각해하면 됌<br>\n",
    "101__01__ <br>\n",
    "<br>\n",
    "T(i) = T(i-1) + T(i-2)"
   ]
  },
  {
   "cell_type": "code",
   "execution_count": 13,
   "metadata": {
    "collapsed": true
   },
   "outputs": [],
   "source": [
    "T = {0 : 0, 1: 1}\n",
    "def specialBin(n,T):\n",
    "    if not n in T:\n",
    "        T[n] = specialBin(n-1,T) + specialBin(n-2,T)\n",
    "    return T[n]"
   ]
  },
  {
   "cell_type": "code",
   "execution_count": 16,
   "metadata": {
    "collapsed": false
   },
   "outputs": [
    {
     "data": {
      "text/plain": [
       "5"
      ]
     },
     "execution_count": 16,
     "metadata": {},
     "output_type": "execute_result"
    }
   ],
   "source": [
    "specialBin(5,T)"
   ]
  },
  {
   "cell_type": "markdown",
   "metadata": {},
   "source": [
    "## R개를 고르는 경우의 수 "
   ]
  },
  {
   "cell_type": "markdown",
   "metadata": {},
   "source": [
    "T(i,j) = i개 중에서 j개를 고르는 경우의 수 <br><br>\n",
    "\n",
    "T(i,j) = T(i-1,j) + T(i-1,j-1) <br><br>"
   ]
  },
  {
   "cell_type": "code",
   "execution_count": 29,
   "metadata": {
    "collapsed": true
   },
   "outputs": [],
   "source": [
    "def combination(n):\n",
    "    T = [[0 for i in range(n+1)] for j in range(n+1)]\n",
    "    print(T)"
   ]
  },
  {
   "cell_type": "code",
   "execution_count": 30,
   "metadata": {
    "collapsed": false
   },
   "outputs": [
    {
     "name": "stdout",
     "output_type": "stream",
     "text": [
      "[[0, 0, 0, 0], [0, 0, 0, 0], [0, 0, 0, 0], [0, 0, 0, 0]]\n"
     ]
    }
   ],
   "source": [
    "combination(3)"
   ]
  },
  {
   "cell_type": "markdown",
   "metadata": {},
   "source": [
    "## 짜장, 짬뽕, 볶음밥 "
   ]
  },
  {
   "cell_type": "markdown",
   "metadata": {},
   "source": [
    "* T(i,0) = i번째 날까지 밥을 먹으며, i번째 날에 짜장을 먹을 경우 최대 만족도\n",
    "* T(i,1) = i번째 날까지 밥을 먹으며, i번째 날에 짬뽕을 먹을 경우 최대 만족도\n",
    "* T(i,2) = i번째 날까지 밥을 먹으며, i번째 날에 볶음밥을 먹을 경우 최대 만족도 \n",
    "<br>\n",
    "<br>\n",
    "* T(i,0) = max(T(i-1,1), T(i-1,2)) + data(i,0)\n",
    "* T(i,1) = max(T(i-1,0), T(i-1,2)) + data(i,1)\n",
    "* T(i,2) = max(T(i-1,0), T(i-1,1)) + data(i,2)"
   ]
  },
  {
   "cell_type": "markdown",
   "metadata": {
    "collapsed": true
   },
   "source": [
    "## 최장 증가 부분 수열 "
   ]
  },
  {
   "cell_type": "markdown",
   "metadata": {},
   "source": [
    "* "
   ]
  }
 ],
 "metadata": {
  "kernelspec": {
   "display_name": "Python 2",
   "language": "python",
   "name": "python2"
  },
  "language_info": {
   "codemirror_mode": {
    "name": "ipython",
    "version": 2
   },
   "file_extension": ".py",
   "mimetype": "text/x-python",
   "name": "python",
   "nbconvert_exporter": "python",
   "pygments_lexer": "ipython2",
   "version": "2.7.6"
  }
 },
 "nbformat": 4,
 "nbformat_minor": 1
}
