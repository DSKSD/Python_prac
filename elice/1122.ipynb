{
 "cells": [
  {
   "cell_type": "markdown",
   "metadata": {},
   "source": [
    "# 두 집합이 같다는 것을 증명 "
   ]
  },
  {
   "cell_type": "code",
   "execution_count": 19,
   "metadata": {
    "collapsed": true
   },
   "outputs": [],
   "source": [
    "A = [1,2,3]\n",
    "B = [1,2,3]"
   ]
  },
  {
   "cell_type": "code",
   "execution_count": null,
   "metadata": {
    "collapsed": true
   },
   "outputs": [],
   "source": []
  },
  {
   "cell_type": "code",
   "execution_count": 14,
   "metadata": {
    "collapsed": false
   },
   "outputs": [
    {
     "name": "stdout",
     "output_type": "stream",
     "text": [
      "True\n"
     ]
    }
   ],
   "source": [
    "if [a for a in A if a in B]:\n",
    "    print('True')"
   ]
  },
  {
   "cell_type": "code",
   "execution_count": null,
   "metadata": {
    "collapsed": true
   },
   "outputs": [],
   "source": [
    "and [b for b in B] in A:"
   ]
  },
  {
   "cell_type": "markdown",
   "metadata": {},
   "source": [
    "# 시간복잡도 "
   ]
  },
  {
   "cell_type": "markdown",
   "metadata": {},
   "source": [
    "당신의 알고리즘이 대략 몇 번의 연산을 필요로 하는가?(+-x/)\n",
    "<br>\n",
    "빅오 노테이션은 상수 무시.. 대략 몇 번 계산이기 때문에 , 또한 그렇기 때문에 가장 차수가 높은 항만 고려"
   ]
  },
  {
   "cell_type": "code",
   "execution_count": 17,
   "metadata": {
    "collapsed": false
   },
   "outputs": [],
   "source": [
    "n = 10\n",
    "sumx=0\n",
    "for i in range(n):\n",
    "    sumx +=1  # O(n) // 오더 n\n",
    "    \n",
    "for i in range(n):\n",
    "    for j in range(n):\n",
    "        sumx+=1 # O(n**2)\n",
    "\n",
    "for i in range(n):\n",
    "    for j in range(i):\n",
    "        sumx+=1 # 0 + 1 + 2 + 3 ... + (n-1) .=. O(n**2)"
   ]
  },
  {
   "cell_type": "markdown",
   "metadata": {},
   "source": [
    "### linear, $O(n)$ "
   ]
  },
  {
   "cell_type": "markdown",
   "metadata": {},
   "source": [
    "굉장히 빠름.. n이 2~3천만 정도까지 1초 걸린다. (환경에 따라 다르긴 하지만..) <br>\n",
    "1천만 정도는 보장 가능<br>\n",
    "근데 2천만 이상 정도가 input으로 들어온다? 그렇다면 O(n)으로 안된다. (간당간당 풀린다고 하더라도 문제의도는 그보다 빠른 알고리즘 요구)"
   ]
  },
  {
   "cell_type": "markdown",
   "metadata": {},
   "source": [
    "### Square, $O(n^2)$ "
   ]
  },
  {
   "cell_type": "markdown",
   "metadata": {},
   "source": [
    "이건 한 2~3천까지 1초 <br>\n",
    "그 이상의 input이 들어오면 안된다... $O(n)과 O(n^2)$를 비교하면 비교할 수 없이 $O(n)$이 빠르다.."
   ]
  },
  {
   "cell_type": "markdown",
   "metadata": {},
   "source": [
    "### $O(logn)$ "
   ]
  },
  {
   "cell_type": "markdown",
   "metadata": {},
   "source": [
    "짱빠름.. 이걸로 풀 수 있으면 무조건 이걸로"
   ]
  },
  {
   "cell_type": "markdown",
   "metadata": {},
   "source": [
    "대략 1000만번의 연산은 1초 내에 나온다. 본인 알고리즘의 시간복잡도를 계산해보고, 대략 1초가 걸릴지 예상해 보아야 함"
   ]
  },
  {
   "cell_type": "markdown",
   "metadata": {},
   "source": [
    "# 힙 "
   ]
  },
  {
   "cell_type": "markdown",
   "metadata": {},
   "source": [
    "완전 이진 트리이며 (부모는 항상 자식보다 작다)"
   ]
  },
  {
   "cell_type": "markdown",
   "metadata": {},
   "source": [
    "힙의 높이(level)은 $logn$ 이며 삽입과 삭제 역시 이 높이만큼 움직이기 때문에 $O(logn)$이다."
   ]
  },
  {
   "cell_type": "markdown",
   "metadata": {},
   "source": [
    "삽입과 삭제가 $O(logn)$만에 가능한 자료구조"
   ]
  },
  {
   "cell_type": "markdown",
   "metadata": {},
   "source": [
    "\n",
    "힙을 이용한 정렬(그냥 top에서 다 빼온다(top에 있는 숫자가 어차피 최소값)) = 힙정렬 <br>\n",
    "한번 쫙 다 넣고 한번 쫙 다 빼야 하니 $O(nlogn)$ 이 걸린다? 빠름!"
   ]
  },
  {
   "cell_type": "code",
   "execution_count": null,
   "metadata": {
    "collapsed": true
   },
   "outputs": [],
   "source": []
  }
 ],
 "metadata": {
  "kernelspec": {
   "display_name": "Python 2",
   "language": "python",
   "name": "python2"
  },
  "language_info": {
   "codemirror_mode": {
    "name": "ipython",
    "version": 2
   },
   "file_extension": ".py",
   "mimetype": "text/x-python",
   "name": "python",
   "nbconvert_exporter": "python",
   "pygments_lexer": "ipython2",
   "version": "2.7.6"
  }
 },
 "nbformat": 4,
 "nbformat_minor": 1
}
