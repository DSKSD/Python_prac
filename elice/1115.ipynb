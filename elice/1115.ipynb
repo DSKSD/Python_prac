{
 "cells": [
  {
   "cell_type": "markdown",
   "metadata": {},
   "source": [
    "# ACM-ICPC 1 Week (Introduction to Problem Solving)"
   ]
  },
  {
   "cell_type": "markdown",
   "metadata": {},
   "source": [
    "__Problem Solving__ : ex. 한국정보올림피아드, acm icpc, ..., Topcoder, Google code jam 등 <br>\n",
    "1000명 안에만 들어도 바로 미국으로 간다..? 전세계가 주목하고 있다. Why? __\"컴퓨터공학적으로 사고하기\"__"
   ]
  },
  {
   "cell_type": "markdown",
   "metadata": {},
   "source": [
    "## 커리큘럼 "
   ]
  },
  {
   "cell_type": "markdown",
   "metadata": {},
   "source": [
    "1. 재귀호출, 추상화\n",
    "2. 시간복잡도, 알고리즘 정확성 증명, 정렬, 자료구조\n",
    "3. 분할정복법, 탐욕적 기법\n",
    "4. 동적계획법 1\n",
    "5. 동적계획법 2\n",
    "6. 그래프 이론 1\n",
    "7. 그래프 이론 2\n",
    "8. 세계 여러 기업의 입사 인터뷰 문제 도전(+ NP-Complete) ex. 구글, 페이스북"
   ]
  },
  {
   "cell_type": "markdown",
   "metadata": {},
   "source": [
    "* 신현규 강사님 (hyungyu.sh@kaist.ac.kr, 카톡 : yougatup)"
   ]
  },
  {
   "cell_type": "markdown",
   "metadata": {},
   "source": [
    "## 재귀호출 "
   ]
  },
  {
   "cell_type": "markdown",
   "metadata": {},
   "source": [
    "함수는 프로그래밍의 최소 단위..! __def__ <br><br>\n",
    "추상적 사고 먼저, 그 후 세부사항 고려..!"
   ]
  },
  {
   "cell_type": "markdown",
   "metadata": {},
   "source": [
    "메인 함수 안은 함수로 가득차 있는 것이 좋다. 함수를 어떤식으로 디자인할 것이냐가 중요할 것. 추상적으로 함수를 만드고 파라미터, 리턴 등을 결정한 후 세부 내용을 코딩한다."
   ]
  },
  {
   "cell_type": "markdown",
   "metadata": {},
   "source": [
    "#### 함수가 무엇을 리턴하는지 명확히 정의 "
   ]
  },
  {
   "cell_type": "markdown",
   "metadata": {},
   "source": [
    "그 상태에서 그 함수를 들어가서 들어가서 무얼하는지 알 필요도 없음. 그 정의를 믿고 짜면 된다! <br>\n",
    "base condition이 만족하는 순간 다 맞는 것. 타고 들어가려 하지 말기..!!"
   ]
  },
  {
   "cell_type": "markdown",
   "metadata": {},
   "source": [
    "## 팩토리얼 "
   ]
  },
  {
   "cell_type": "code",
   "execution_count": 2,
   "metadata": {
    "collapsed": false
   },
   "outputs": [
    {
     "name": "stdout",
     "output_type": "stream",
     "text": [
      "5\n",
      " 1\n",
      "234\n",
      "None\n",
      "10111213141516\n",
      "None\n"
     ]
    }
   ],
   "source": [
    "def pyramid(n) :\n",
    "    '''\n",
    "    높이 n의 숫자 피라미드를 list로 반환하는 함수\n",
    "\n",
    "    result[i] = i 번째 줄에 출력해야 할 문자열\n",
    "\n",
    "    ex. n = 2 일 경우 result = [\" 1\", \"234\"] 를 반환합니다.\n",
    "\n",
    "    '''\n",
    "    result = [\" 1\"]\n",
    "    counter = 2\n",
    "    \n",
    "    if n > 1:\n",
    "        for x in range(1,n):\n",
    "            tempString = \"\"\n",
    "            forP = 2*x+1\n",
    "            for s in range(forP):\n",
    "                tempString+=str(counter)\n",
    "                counter+=1\n",
    "            if (x%2)==0: \n",
    "                tempString = list(tempString)\n",
    "                tempString = tempString.reverse()\n",
    "            result.append(tempString)\n",
    "\n",
    "   # result = [\" 1\", \"234\"]\n",
    "\n",
    "    return result\n",
    "\n",
    "def main():\n",
    "    '''\n",
    "    Do not change this code\n",
    "    '''\n",
    "\n",
    "    n = int(input())\n",
    "    for l in pyramid(n) :\n",
    "        print(l)\n",
    "\n",
    "if __name__ == \"__main__\":\n",
    "    main()\n"
   ]
  },
  {
   "cell_type": "code",
   "execution_count": 16,
   "metadata": {
    "collapsed": true
   },
   "outputs": [],
   "source": [
    "x = \"123\""
   ]
  },
  {
   "cell_type": "code",
   "execution_count": 17,
   "metadata": {
    "collapsed": true
   },
   "outputs": [],
   "source": [
    "y = list(x)"
   ]
  },
  {
   "cell_type": "code",
   "execution_count": 18,
   "metadata": {
    "collapsed": false
   },
   "outputs": [
    {
     "data": {
      "text/plain": [
       "['1', '2', '3']"
      ]
     },
     "execution_count": 18,
     "metadata": {},
     "output_type": "execute_result"
    }
   ],
   "source": [
    "y"
   ]
  },
  {
   "cell_type": "code",
   "execution_count": 19,
   "metadata": {
    "collapsed": false
   },
   "outputs": [
    {
     "data": {
      "text/plain": [
       "'3'"
      ]
     },
     "execution_count": 19,
     "metadata": {},
     "output_type": "execute_result"
    }
   ],
   "source": [
    "str(y.pop())"
   ]
  },
  {
   "cell_type": "code",
   "execution_count": 25,
   "metadata": {
    "collapsed": false
   },
   "outputs": [
    {
     "name": "stdout",
     "output_type": "stream",
     "text": [
      "5\n",
      "    1\n",
      "   234\n",
      "  98765\n",
      " 1234567\n",
      "1615141312111098\n"
     ]
    }
   ],
   "source": [
    "\n",
    "def printSpace(n):\n",
    "    return \" \" * n\n",
    "        \n",
    "def printRightDirection(number, printCnt):\n",
    "    line = \"\"\n",
    "    \n",
    "    for i in range(printCnt):\n",
    "        line = line + str(number)\n",
    "        number+=1\n",
    "        \n",
    "        if number >= 10: number = 1\n",
    "    \n",
    "    return number, line\n",
    "    \n",
    "    \n",
    "def printLeftDirection(number,printCnt):\n",
    "    line = \"\"\n",
    "    temp = number+printCnt\n",
    "    start = temp-1\n",
    "    \n",
    "    if temp >= 10: temp = 1\n",
    "    \n",
    "    for i in range(printCnt):\n",
    "        line = line + str(start)\n",
    "        start = start - 1\n",
    "        \n",
    "        if start <= 0:\n",
    "            start = 9\n",
    "            \n",
    "    return temp, line\n",
    "    \n",
    "def pyramid(n) :\n",
    "    '''\n",
    "    높이 n의 숫자 피라미드를 list로 반환하는 함수\n",
    "\n",
    "    result[i] = i 번째 줄에 출력해야 할 문자열\n",
    "\n",
    "    ex. n = 2 일 경우 result = [\" 1\", \"234\"] 를 반환합니다.\n",
    "\n",
    "    '''\n",
    "    result = []\n",
    "    number = 1\n",
    "    printCnt = 1\n",
    "    for i in range(n):\n",
    "        line = printSpace(n-i-1)\n",
    "        \n",
    "        if i % 2 == 0:\n",
    "            number, t = printLeftDirection(number, printCnt)\n",
    "        else:\n",
    "            number, t = printRightDirection(number, printCnt)\n",
    "        \n",
    "        printCnt+=2\n",
    "        \n",
    "        line = line + t\n",
    "        result.append(line)\n",
    "\n",
    "    return result\n",
    "\n",
    "def main():\n",
    "    '''\n",
    "    Do not change this code\n",
    "    '''\n",
    "\n",
    "    n = int(input())\n",
    "    for l in pyramid(n) :\n",
    "        print(l)\n",
    "\n",
    "if __name__ == \"__main__\":\n",
    "    main()"
   ]
  },
  {
   "cell_type": "code",
   "execution_count": null,
   "metadata": {
    "collapsed": true
   },
   "outputs": [],
   "source": []
  }
 ],
 "metadata": {
  "kernelspec": {
   "display_name": "Python 2",
   "language": "python",
   "name": "python2"
  },
  "language_info": {
   "codemirror_mode": {
    "name": "ipython",
    "version": 2
   },
   "file_extension": ".py",
   "mimetype": "text/x-python",
   "name": "python",
   "nbconvert_exporter": "python",
   "pygments_lexer": "ipython2",
   "version": "2.7.6"
  }
 },
 "nbformat": 4,
 "nbformat_minor": 1
}
