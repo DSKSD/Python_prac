{
 "cells": [
  {
   "cell_type": "markdown",
   "metadata": {},
   "source": [
    "# Random walk Simulation "
   ]
  },
  {
   "cell_type": "markdown",
   "metadata": {},
   "source": [
    "3 가지 큰 토픽..?!"
   ]
  },
  {
   "cell_type": "markdown",
   "metadata": {},
   "source": [
    "## Formal problem desciption "
   ]
  },
  {
   "cell_type": "markdown",
   "metadata": {},
   "source": [
    "먼저 Informal problem decription 를 포멀한 형태로 바꾼 뒤 생각하자! \"rigorous\""
   ]
  },
  {
   "cell_type": "markdown",
   "metadata": {},
   "source": [
    "### Inventing computational models "
   ]
  },
  {
   "cell_type": "markdown",
   "metadata": {},
   "source": [
    "계산 가능한 모델! \n",
    "<br>\n",
    "이를 통해 Dealing with & exploiting <strong>randomness</strong><br>\n",
    "세상의 불확실성..! (예측 불가능함.) <br>\n",
    "그래서 우리가 모델을 만들 때 stochastic(incorporate randomness)를 생각해야 한다."
   ]
  },
  {
   "cell_type": "markdown",
   "metadata": {},
   "source": [
    "## Making sense of data "
   ]
  },
  {
   "cell_type": "markdown",
   "metadata": {},
   "source": [
    "당신이 월마트 관리자라 생각하면 어디에 신경이 가겠는가? \"어떤 상황에서 고객들이 물품을 구매할지?\"에 관심이 있을 것. <br>\n",
    "당신은 아마 과거의 데이터로부터 인사이트를 얻어 예측할 수도 있을 것이다.(월마트의 경우 엄청난 양의 과거 구매 데이터가 있으니) <br> 숫자를 보거나 시각화 해서 이해를 도울 것"
   ]
  },
  {
   "cell_type": "markdown",
   "metadata": {},
   "source": [
    "## Evaluating quality of answers "
   ]
  },
  {
   "cell_type": "markdown",
   "metadata": {},
   "source": [
    "프로그램이 어떠한 숫자나, 스트링을 리턴하게 만드는 것은 쉽다. <br> __중요한 것은 그 결과물이 정말 유의한지 납득시키는 것__이다. <br>\n",
    "허나 프로그램이 옳은 답을 했는지 어떻게 알지? 당신은 답을 알지 못한다. 그냥 믿는 수 밖에 없단 말인가?? 아니면 믿지 말아야 하나? <br>\n"
   ]
  },
  {
   "cell_type": "markdown",
   "metadata": {},
   "source": [
    "#### 프로그램의 답을 믿을지 말지 결정하는 법에 대해 배우겠다 "
   ]
  },
  {
   "cell_type": "markdown",
   "metadata": {},
   "source": [
    "## Example "
   ]
  },
  {
   "cell_type": "markdown",
   "metadata": {},
   "source": [
    "아주 거하게 취한 대학생이 잔디밭을 걷고 있다. 매초마다 그는 움직이는데 그의 걸음 걸이는 어디로 향할지 모른다. (__Random__) <br>\n",
    "제약사항은 500초~1000초... <br>\n",
    "그는 과연 어디로 얼만큼 갈 것인가?"
   ]
  },
  {
   "cell_type": "markdown",
   "metadata": {},
   "source": [
    "### Start simple "
   ]
  },
  {
   "cell_type": "markdown",
   "metadata": {},
   "source": [
    "진짜 세상에 대한 단순한 근사로 시작하는 것은 좋다.\n",
    "__cartesian could__<br>\n",
    "대학생은 동서남북 4방향으로 밖에 못 움직인다고 생각해보자.\n",
    "<br><br>\n",
    "이러한 __시뮬레이션__을 칠판에 그려볼 수도 있지만,, 우린 프로그래머니까 프로그램으로 해보자!! <br>\n",
    "__Random Walk__!!! \n",
    "<hr>\n",
    "이를 통해, 솔루션의 구조를 디자인하기 위한 인사이트를 얻자"
   ]
  },
  {
   "cell_type": "markdown",
   "metadata": {},
   "source": [
    "### Data Abstraction "
   ]
  },
  {
   "cell_type": "markdown",
   "metadata": {},
   "source": [
    "* Location\n",
    "* CompassPt(학생이 움직일 방향) # direction\n",
    "* Field (Whole cartesian plane)\n",
    "* Drunk (움직이는 주체)"
   ]
  },
  {
   "cell_type": "code",
   "execution_count": 1,
   "metadata": {
    "collapsed": true
   },
   "outputs": [],
   "source": [
    "import math, random, pylab"
   ]
  },
  {
   "cell_type": "markdown",
   "metadata": {},
   "source": [
    "Pseudo random (우리가 느끼기에 랜덤일 수 있지만 컴퓨터는 판별적 기계이기 때문에 엄밀한 의미의 랜덤은 아니다) <br>\n",
    "<br>\n",
    "pylab은 Matlab의 특징을 파이썬으로 가지고 온 패키지(이번엔 그래프를 그리기 위해)\n"
   ]
  },
  {
   "cell_type": "code",
   "execution_count": 7,
   "metadata": {
    "collapsed": true
   },
   "outputs": [],
   "source": [
    "class Location(object):\n",
    "    def __init__(self, x, y):\n",
    "        self.x = float(x)\n",
    "        self.y = float(y)\n",
    "    def move(self, xc, yc): #객체를 리턴?\n",
    "        return Location(self.x+float(xc), self.y+float(yc))\n",
    "    def getCoords(self):\n",
    "        return self.x, self.y\n",
    "    def getDist(self, other):\n",
    "        ox, oy = other.getCoords()\n",
    "        xDist = self.x - ox\n",
    "        yDist = self.y - oy\n",
    "        return math.sqrt(xDist**2 + yDist**2)\n",
    "\n",
    "class CompassPt(object):\n",
    "    \"\"\"dirctions을 간편히 다루기 위한 클래스\"\"\"\n",
    "    possibles = ('N', 'S', 'E', 'W') # global varaible\n",
    "    # 어떤 인스턴스에서나 공통으로 가지게 되는 value\n",
    "    def __init__(self, pt):\n",
    "        # 만약 동서남북이 아닌 방향이 들어오면 에러\n",
    "        if pt in self.possibles: self.pt = pt\n",
    "        else: raise ValueError('in CompassPt.__init__')\n",
    "    def move(self, dist):\n",
    "        if self.pt == 'N': return (0, dist)\n",
    "        elif self.pt == 'S': return (0, -dist)\n",
    "        elif self.pt == 'E': return (dist, 0)\n",
    "        elif self.pt == 'W': return (-dist, 0)\n",
    "        else: raise ValueError('in CompassPt.move')\n",
    "\n",
    "class Field(object):\n",
    "    def __init__(self, drunk, loc):\n",
    "        self.drunk = drunk\n",
    "        self.loc = loc\n",
    "    def move(self, cp, dist):\n",
    "        oldLoc = self.loc\n",
    "        xc, yc = cp.move(dist) # 동서남북으로 움직임을 줌.\n",
    "        self.loc = oldLoc.move(xc, yc)\n",
    "    def getLoc(self):\n",
    "        return self.loc\n",
    "    def getDrunk(self):\n",
    "        return self.drunk\n",
    "\n",
    "class Drunk(object):\n",
    "    def __init__(self, name):\n",
    "        self.name = name\n",
    "    def move(self, field, time = 1):\n",
    "        # time의 default value = 1\n",
    "        if field.getDrunk() != self:\n",
    "            raise ValueError('Drunk.move called with drunk not in field')\n",
    "        for i in range(time):\n",
    "            pt = CompassPt(random.choice(CompassPt.possibles))\n",
    "            field.move(pt, 1)"
   ]
  },
  {
   "cell_type": "markdown",
   "metadata": {},
   "source": [
    "우리가 Encapsulation을 하는 동안 무엇을 결정하는가?\n",
    "1. 2-dimensions space (fixed) (x,y)\n",
    "2. 동서남북의 방향"
   ]
  },
  {
   "cell_type": "code",
   "execution_count": 4,
   "metadata": {
    "collapsed": true
   },
   "outputs": [],
   "source": [
    "def performTrial(time, f):\n",
    "    start = f.getLoc() # 첫 시작\n",
    "    # distance를 구할 때 마다 시작점으로부터 얼마나 멀어지는지\n",
    "    # 체크해서 플롯팅할 것임.\n",
    "    distances = [0.0]\n",
    "    for t in range(1, time+1):\n",
    "        f.getDrunk().move(f)\n",
    "        newLoc = f.getLoc()\n",
    "        distance = newLoc.getDist(start)\n",
    "        distances.append(distance)\n",
    "    return distances"
   ]
  },
  {
   "cell_type": "code",
   "execution_count": 19,
   "metadata": {
    "collapsed": false
   },
   "outputs": [],
   "source": [
    "#assert False\n",
    "def firstTest(trials=1):\n",
    "    drunk = Drunk('Homer Simpson')\n",
    "    for i in range(trials): # 시뮬레이션을 3번\n",
    "        f = Field(drunk, Location(0,0))\n",
    "        distances = performTrial(500, f)\n",
    "        pylab.plot(distances)\n",
    "    pylab.title('Homer\\'s Random Walk')\n",
    "    pylab.xlabel('Time')\n",
    "    pylab.ylabel('Distance from Origin')\n",
    "    pylab.show()"
   ]
  },
  {
   "cell_type": "markdown",
   "metadata": {},
   "source": [
    "어쩌면 이걸 계속 돌려보는 것은 바보짓일지도..! <br>\n",
    "이제 이 시뮬레이션의 성능을 평가해보자 "
   ]
  },
  {
   "cell_type": "markdown",
   "metadata": {},
   "source": [
    "1. Inner loop that simulates 1 trial.\n",
    "2. \"Enclose\" inner loop in a loop that conducts  appropriate # of of trials.\n",
    "3. Calculate and present some relevent statistics."
   ]
  },
  {
   "cell_type": "code",
   "execution_count": 8,
   "metadata": {
    "collapsed": true
   },
   "outputs": [],
   "source": [
    "def performSim(time, numTrials):\n",
    "    distLists = []\n",
    "    for trial in range(numTrials):\n",
    "        d = Drunk('Drunk' + str(trial))\n",
    "        f = Field(d, Location(0,0))\n",
    "        distances = performTrial(time, f)\n",
    "        distLists.append(distances)\n",
    "    return distLists # 각 시뮬레이션에 대한 리스트들의 리스트"
   ]
  },
  {
   "cell_type": "code",
   "execution_count": 42,
   "metadata": {
    "collapsed": true
   },
   "outputs": [],
   "source": [
    "def ansQuest(maxTime, numTrials):\n",
    "    means = []\n",
    "    distLists = performSim(maxTime, numTrials)\n",
    "    for t in range(maxTime+1):\n",
    "        tot = 0.0\n",
    "        for distL in distLists:\n",
    "            tot += distL[t]\n",
    "        means.append(tot/len(distLists))\n",
    "    pylab.figure()\n",
    "    pylab.plot(means)\n",
    "    pylab.ylabel('distance')\n",
    "    pylab.xlabel('time')\n",
    "    pylab.title('Average Distance vs. Time : ' + str(len(distLists)) + 'trials')\n",
    "    pylab.show()"
   ]
  },
  {
   "cell_type": "code",
   "execution_count": 47,
   "metadata": {
    "collapsed": false
   },
   "outputs": [
    {
     "data": {
      "image/png": "[encoded data removed]",
      "text/plain": [
       "<matplotlib.figure.Figure at 0x7fadab1d6690>"
      ]
     },
     "metadata": {},
     "output_type": "display_data"
    }
   ],
   "source": [
    "ansQuest(500,100)"
   ]
  },
  {
   "cell_type": "markdown",
   "metadata": {},
   "source": [
    "결과물을 보니 스무스한 결과를 얻었다. 이는 뭔가 결과에 대한 신뢰감을 가지게 한다. (어떠한 트렌드를 보이는거보다..) <br>\n",
    "이게 맞는지 틀린지 어떻게 알지..?  <br>\n",
    "하지만 개별 시뮬레이션을 플롯팅 해봤을 때를 생각해봐라. 분명 40의 거리까지 벌어지기도 했었다. <br>\n",
    "그렇담 둘 중 하나는 틀렸다는 것. 여기엔 버그가 있다.. ! 이럴 땐 1 step으로 테스트해보는것.. \n",
    "len(distL[t]) -> len(distLists) "
   ]
  },
  {
   "cell_type": "markdown",
   "metadata": {},
   "source": [
    "버그 고친 후 몇 번씩 시뮬레이션 해봐도 20 근처로 수렴한다."
   ]
  },
  {
   "cell_type": "markdown",
   "metadata": {},
   "source": [
    "### Label axes & look "
   ]
  },
  {
   "cell_type": "markdown",
   "metadata": {},
   "source": [
    "Ask if answer makes sense"
   ]
  },
  {
   "cell_type": "markdown",
   "metadata": {},
   "source": [
    "## Applications "
   ]
  },
  {
   "cell_type": "markdown",
   "metadata": {},
   "source": [
    "* Brownian motion\n",
    "* Stock market\n",
    "* Kinetics\n",
    "* Evolution"
   ]
  },
  {
   "cell_type": "markdown",
   "metadata": {},
   "source": [
    "## Pylab "
   ]
  },
  {
   "cell_type": "markdown",
   "metadata": {},
   "source": [
    "Matlab의 여러 기능을 파이썬 인터페이스에서 실행할 수 있도록 한 패키지"
   ]
  },
  {
   "cell_type": "code",
   "execution_count": 48,
   "metadata": {
    "collapsed": true
   },
   "outputs": [],
   "source": [
    "from pylab import *"
   ]
  },
  {
   "cell_type": "code",
   "execution_count": 53,
   "metadata": {
    "collapsed": false
   },
   "outputs": [
    {
     "data": {
      "text/plain": [
       "[<matplotlib.lines.Line2D at 0x7fadab31b8d0>]"
      ]
     },
     "execution_count": 53,
     "metadata": {},
     "output_type": "execute_result"
    }
   ],
   "source": [
    "plot([1,2,3,4])\n",
    "plot([5,6,7,8])"
   ]
  },
  {
   "cell_type": "code",
   "execution_count": 54,
   "metadata": {
    "collapsed": false
   },
   "outputs": [
    {
     "data": {
      "image/png": "[encoded data removed]",
      "text/plain": [
       "<matplotlib.figure.Figure at 0x7fadab31b1d0>"
      ]
     },
     "metadata": {},
     "output_type": "display_data"
    }
   ],
   "source": [
    "show()"
   ]
  },
  {
   "cell_type": "markdown",
   "metadata": {},
   "source": [
    "x축은 디폴트로 0부터 시작..?!"
   ]
  },
  {
   "cell_type": "code",
   "execution_count": 57,
   "metadata": {
    "collapsed": false
   },
   "outputs": [
    {
     "data": {
      "image/png": "[encoded data removed]",
      "text/plain": [
       "<matplotlib.figure.Figure at 0x7fada97802d0>"
      ]
     },
     "metadata": {},
     "output_type": "display_data"
    }
   ],
   "source": [
    "plot([1,2,3,4],[1,4,9,16])\n",
    "show() # x & y"
   ]
  },
  {
   "cell_type": "code",
   "execution_count": 66,
   "metadata": {
    "collapsed": false
   },
   "outputs": [
    {
     "data": {
      "image/png": "[encoded data removed]",
      "text/plain": [
       "<matplotlib.figure.Figure at 0x7fada94bfdd0>"
      ]
     },
     "metadata": {},
     "output_type": "display_data"
    },
    {
     "data": {
      "image/png": "[encoded data removed]",
      "text/plain": [
       "<matplotlib.figure.Figure at 0x7fada94bfd90>"
      ]
     },
     "metadata": {},
     "output_type": "display_data"
    }
   ],
   "source": [
    "plot([1,2,3,4],[1,4,9,16])\n",
    "figure() # create new figure\n",
    "plot([1,2,3,4],[1,4,9,16], 'ro') # red O\n",
    "show()"
   ]
  },
  {
   "cell_type": "markdown",
   "metadata": {},
   "source": [
    "빨간점을 찍긴했는데 축 가까이 있는건 보기 안좋음..!"
   ]
  },
  {
   "cell_type": "code",
   "execution_count": 67,
   "metadata": {
    "collapsed": false
   },
   "outputs": [
    {
     "data": {
      "image/png": "[encoded data removed]",
      "text/plain": [
       "<matplotlib.figure.Figure at 0x7fada907ff10>"
      ]
     },
     "metadata": {},
     "output_type": "display_data"
    }
   ],
   "source": [
    "plot([1,2,3,4],[1,4,9,16], 'ro') # red O\n",
    "axis([0,6,0,20]) # 축 범위 조정\n",
    "show()"
   ]
  },
  {
   "cell_type": "code",
   "execution_count": 68,
   "metadata": {
    "collapsed": false
   },
   "outputs": [
    {
     "data": {
      "image/png": "[encoded data removed]",
      "text/plain": [
       "<matplotlib.figure.Figure at 0x7fada903d310>"
      ]
     },
     "metadata": {},
     "output_type": "display_data"
    }
   ],
   "source": [
    "plot([1,2,3,4],[1,4,9,16], 'ro') # red O\n",
    "axis([0,6,0,20]) # 축 범위 조정\n",
    "title('Earnings')\n",
    "xlabel('Days')\n",
    "ylabel('Dollars')\n",
    "show()"
   ]
  },
  {
   "cell_type": "markdown",
   "metadata": {},
   "source": [
    "지금까지는 x와 y에 list를 넘겨줬었다. "
   ]
  },
  {
   "cell_type": "markdown",
   "metadata": {},
   "source": [
    "### array"
   ]
  },
  {
   "cell_type": "markdown",
   "metadata": {},
   "source": [
    "프로그래밍 언어에서 array는 다양한 의미를 가지지만 numpy의 경우 matrix를 지칭한다."
   ]
  },
  {
   "cell_type": "code",
   "execution_count": 70,
   "metadata": {
    "collapsed": false
   },
   "outputs": [
    {
     "name": "stdout",
     "output_type": "stream",
     "text": [
      "[1 2 3 4]\n",
      "[1 2 3 4]\n",
      "[ True  True  True  True]\n"
     ]
    },
    {
     "data": {
      "image/png": "[encoded data removed]",
      "text/plain": [
       "<matplotlib.figure.Figure at 0x7fada8f6af90>"
      ]
     },
     "metadata": {},
     "output_type": "display_data"
    }
   ],
   "source": [
    "xAxis = array([1,2,3,4])\n",
    "print xAxis\n",
    "test = arange(1,5)\n",
    "print test\n",
    "print test == xAxis\n",
    "yAxis = xAxis**3 \n",
    "## list 대신 array를 이용하면 선형대수 관련 연산 가능\n",
    "plot(xAxis,yAxis,'ro')\n",
    "show()"
   ]
  },
  {
   "cell_type": "markdown",
   "metadata": {},
   "source": [
    "범위는 list와 array가 같지만 array를 사용하면 선형대수 연산을 사용할 수 있다. "
   ]
  },
  {
   "cell_type": "code",
   "execution_count": 71,
   "metadata": {
    "collapsed": false
   },
   "outputs": [
    {
     "ename": "TypeError",
     "evalue": "unsupported operand type(s) for ** or pow(): 'list' and 'int'",
     "output_type": "error",
     "traceback": [
      "\u001b[0;31m---------------------------------------------------------------------------\u001b[0m",
      "\u001b[0;31mTypeError\u001b[0m                                 Traceback (most recent call last)",
      "\u001b[0;32m<ipython-input-71-6b52a174459b>\u001b[0m in \u001b[0;36m<module>\u001b[0;34m()\u001b[0m\n\u001b[1;32m      1\u001b[0m \u001b[0mx\u001b[0m \u001b[0;34m=\u001b[0m \u001b[0;34m[\u001b[0m\u001b[0;36m1\u001b[0m\u001b[0;34m,\u001b[0m\u001b[0;36m2\u001b[0m\u001b[0;34m,\u001b[0m\u001b[0;36m3\u001b[0m\u001b[0;34m,\u001b[0m\u001b[0;36m4\u001b[0m\u001b[0;34m]\u001b[0m\u001b[0;34m\u001b[0m\u001b[0m\n\u001b[0;32m----> 2\u001b[0;31m \u001b[0mx\u001b[0m\u001b[0;34m**\u001b[0m\u001b[0;36m2\u001b[0m\u001b[0;34m\u001b[0m\u001b[0m\n\u001b[0m",
      "\u001b[0;31mTypeError\u001b[0m: unsupported operand type(s) for ** or pow(): 'list' and 'int'"
     ]
    }
   ],
   "source": [
    "x = [1,2,3,4]\n",
    "x**2"
   ]
  },
  {
   "cell_type": "code",
   "execution_count": 72,
   "metadata": {
    "collapsed": false
   },
   "outputs": [
    {
     "data": {
      "text/plain": [
       "array([ 1,  4,  9, 16])"
      ]
     },
     "execution_count": 72,
     "metadata": {},
     "output_type": "execute_result"
    }
   ],
   "source": [
    "x = array([1,2,3,4])\n",
    "x**2"
   ]
  },
  {
   "cell_type": "code",
   "execution_count": 74,
   "metadata": {
    "collapsed": true
   },
   "outputs": [],
   "source": [
    "import random"
   ]
  },
  {
   "cell_type": "markdown",
   "metadata": {},
   "source": [
    "# histogram을 통한 정규분포"
   ]
  },
  {
   "cell_type": "code",
   "execution_count": 80,
   "metadata": {
    "collapsed": false
   },
   "outputs": [
    {
     "data": {
      "image/png": "[encoded data removed]",
      "text/plain": [
       "<matplotlib.figure.Figure at 0x7fada98ee550>"
      ]
     },
     "metadata": {},
     "output_type": "display_data"
    }
   ],
   "source": [
    "vals = []\n",
    "dieVals = [1,2,3,4,5,6]\n",
    "for i in range(10000):\n",
    "    vals.append(random.choice(dieVals)+random.choice(dieVals))\n",
    "hist(vals, bins=11)\n",
    "show()"
   ]
  },
  {
   "cell_type": "code",
   "execution_count": null,
   "metadata": {
    "collapsed": true
   },
   "outputs": [],
   "source": []
  }
 ],
 "metadata": {
  "kernelspec": {
   "display_name": "Python 2",
   "language": "python",
   "name": "python2"
  },
  "language_info": {
   "codemirror_mode": {
    "name": "ipython",
    "version": 2
   },
   "file_extension": ".py",
   "mimetype": "text/x-python",
   "name": "python",
   "nbconvert_exporter": "python",
   "pygments_lexer": "ipython2",
   "version": "2.7.6"
  }
 },
 "nbformat": 4,
 "nbformat_minor": 1
}
