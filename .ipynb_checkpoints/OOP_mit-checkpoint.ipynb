{
 "cells": [
  {
   "cell_type": "markdown",
   "metadata": {},
   "source": [
    "# Object Oriented Programming "
   ]
  },
  {
   "cell_type": "markdown",
   "metadata": {},
   "source": [
    "## Module(modulariy) "
   ]
  },
  {
   "cell_type": "markdown",
   "metadata": {},
   "source": [
    "관련된 함수들의 집합\n",
    "\n",
    "* dot notation을 이용하여 그러한 function들을 reference한다.\n",
    "<hr>\n",
    "이러한 dot notation은 name conflict를 예방해준다!"
   ]
  },
  {
   "cell_type": "code",
   "execution_count": 1,
   "metadata": {
    "collapsed": false
   },
   "outputs": [
    {
     "data": {
      "text/plain": [
       "2.0"
      ]
     },
     "execution_count": 1,
     "metadata": {},
     "output_type": "execute_result"
    }
   ],
   "source": [
    "import math\n",
    "math.sqrt(4)"
   ]
  },
  {
   "cell_type": "markdown",
   "metadata": {},
   "source": [
    "import set <br>\n",
    "import table <br>\n",
    "<br>\n",
    "table.member(e,t) "
   ]
  },
  {
   "cell_type": "markdown",
   "metadata": {},
   "source": [
    "모듈화를 통해 사용자는 table의 member를 불러올 것을 정확히 명시한다. (not set의 member) dot notation을 통해 같은 이름을 사용하지 않게 됌을 보장한다."
   ]
  },
  {
   "cell_type": "markdown",
   "metadata": {},
   "source": [
    "## Object Oriented Programming "
   ]
  },
  {
   "cell_type": "markdown",
   "metadata": {},
   "source": [
    "객체 지향적 프로그래밍! <br>\n",
    "70년대부터 프로그래밍의 스타일을 고민해온 결과(not new idea) <br>\n",
    "JAVA , C++, Python"
   ]
  },
  {
   "cell_type": "markdown",
   "metadata": {},
   "source": [
    "### Object = Collection of data and functions "
   ]
  },
  {
   "cell_type": "markdown",
   "metadata": {},
   "source": [
    "이러한 오브젝트의 장점은 다른 프로그램으로 오브젝트를 보내도 그 자료형 뿐만 아니라 그 자료형을 가지고 수행할 수 있는 특정 operations을 포함해서 보낼 수 있다는 것이다."
   ]
  },
  {
   "cell_type": "markdown",
   "metadata": {},
   "source": [
    "### Encapsulation "
   ]
  },
  {
   "cell_type": "markdown",
   "metadata": {},
   "source": [
    "캡슐이 하나 있고 데이터와 메소드(function)가 존재 <br>"
   ]
  },
  {
   "cell_type": "markdown",
   "metadata": {},
   "source": [
    "### Instance"
   ]
  },
  {
   "cell_type": "markdown",
   "metadata": {},
   "source": [
    "내부적 속성을 가진다"
   ]
  },
  {
   "cell_type": "markdown",
   "metadata": {},
   "source": [
    "## Class"
   ]
  },
  {
   "cell_type": "markdown",
   "metadata": {},
   "source": [
    "a collection of objects with characteristics in common. <br>\n",
    "list나 dictionary 등 역시 built-in class이다. <br>\n",
    "<br>\n",
    "<strong>template for creating instances of an object.</strong>"
   ]
  },
  {
   "cell_type": "markdown",
   "metadata": {},
   "source": [
    "## Data abstractions "
   ]
  },
  {
   "cell_type": "markdown",
   "metadata": {},
   "source": [
    "## Abstract data types "
   ]
  },
  {
   "cell_type": "markdown",
   "metadata": {},
   "source": [
    "### Points on Plane --> list "
   ]
  },
  {
   "cell_type": "markdown",
   "metadata": {},
   "source": [
    "평면에 list를 사용하여 점을 나타내는 방식\n",
    "1. 데카르트 방식 (x,y 좌표)\n",
    "2. 폴라 방식 (지름과 각도로,,?)\n",
    "\n",
    "우리가 사용하고자 하는 방식이 무엇이냐에 따라 다른 data와 method를 가지게 된다. <br>\n",
    "요것이 문제다."
   ]
  },
  {
   "cell_type": "code",
   "execution_count": 2,
   "metadata": {
    "collapsed": false
   },
   "outputs": [
    {
     "name": "stdout",
     "output_type": "stream",
     "text": [
      "[4, 3]\n"
     ]
    }
   ],
   "source": [
    "import math\n",
    "\n",
    "## point as lists\n",
    "\n",
    "def addPoints(p1,p2):\n",
    "    r = []\n",
    "    r.append(p1[0]+p2[0])\n",
    "    r.append(p1[1]+p2[1])\n",
    "    return r\n",
    "\n",
    "p = [1,2]\n",
    "q = [3,1]\n",
    "r = addPoints(p,q)\n",
    "print r"
   ]
  },
  {
   "cell_type": "code",
   "execution_count": 6,
   "metadata": {
    "collapsed": true
   },
   "outputs": [],
   "source": [
    "## points as classes\n",
    "\n",
    "class cartesianPoint:\n",
    "    pass # 비어있음을 의미\n",
    "\n",
    "cp1 = cartesianPoint() # 인스턴스 (클래스의 specific version)\n",
    "cp2 = cartesianPoint()\n",
    "cp1.x = 1.0\n",
    "cp1.y = 2.0\n",
    "cp2.x = 1.0\n",
    "cp2.y = 3.0\n"
   ]
  },
  {
   "cell_type": "code",
   "execution_count": 8,
   "metadata": {
    "collapsed": false
   },
   "outputs": [
    {
     "data": {
      "text/plain": [
       "<__main__.cartesianPoint instance at 0x7f912c562c68>"
      ]
     },
     "execution_count": 8,
     "metadata": {},
     "output_type": "execute_result"
    }
   ],
   "source": [
    "cp1 # 특정 메모리 주소를 가르키는 포인터로써 인스턴스 존재"
   ]
  },
  {
   "cell_type": "code",
   "execution_count": 9,
   "metadata": {
    "collapsed": false
   },
   "outputs": [
    {
     "data": {
      "text/plain": [
       "1.0"
      ]
     },
     "execution_count": 9,
     "metadata": {},
     "output_type": "execute_result"
    }
   ],
   "source": [
    "cp1.x"
   ]
  },
  {
   "cell_type": "code",
   "execution_count": 10,
   "metadata": {
    "collapsed": true
   },
   "outputs": [],
   "source": [
    "def samePoint(p1,p2):\n",
    "    return (p1.x == p2.x) and (p1.y == p2.y)"
   ]
  },
  {
   "cell_type": "code",
   "execution_count": 18,
   "metadata": {
    "collapsed": false
   },
   "outputs": [],
   "source": [
    "p1 = cartesianPoint()\n",
    "p1.x = 3\n",
    "p1.y = 4\n",
    "p2 = cartesianPoint()\n",
    "p2.x = 3\n",
    "p2.y = 4"
   ]
  },
  {
   "cell_type": "markdown",
   "metadata": {},
   "source": [
    "### Shallow equality \"is\" "
   ]
  },
  {
   "cell_type": "markdown",
   "metadata": {},
   "source": [
    "메모리 상에서 같은 지점을 가르키고 있는가"
   ]
  },
  {
   "cell_type": "code",
   "execution_count": 19,
   "metadata": {
    "collapsed": false
   },
   "outputs": [
    {
     "data": {
      "text/plain": [
       "False"
      ]
     },
     "execution_count": 19,
     "metadata": {},
     "output_type": "execute_result"
    }
   ],
   "source": [
    "p1 is p2"
   ]
  },
  {
   "cell_type": "markdown",
   "metadata": {},
   "source": [
    "### Deep equality "
   ]
  },
  {
   "cell_type": "markdown",
   "metadata": {},
   "source": [
    "의미상 동일성?"
   ]
  },
  {
   "cell_type": "code",
   "execution_count": 20,
   "metadata": {
    "collapsed": false
   },
   "outputs": [
    {
     "data": {
      "text/plain": [
       "True"
      ]
     },
     "execution_count": 20,
     "metadata": {},
     "output_type": "execute_result"
    }
   ],
   "source": [
    "samePoint(p1,p2)"
   ]
  },
  {
   "cell_type": "code",
   "execution_count": 21,
   "metadata": {
    "collapsed": true
   },
   "outputs": [],
   "source": [
    "class polarPoint:\n",
    "    pass\n",
    "\n",
    "pp1 = polarPoint()\n",
    "pp2 = polarPoint()\n",
    "pp1.radius = 1.0\n",
    "pp1.angle = 0\n",
    "pp2.radius = 2.0\n",
    "pp2.angle = math.pi / 4.0"
   ]
  },
  {
   "cell_type": "code",
   "execution_count": 22,
   "metadata": {
    "collapsed": false
   },
   "outputs": [
    {
     "data": {
      "text/plain": [
       "False"
      ]
     },
     "execution_count": 22,
     "metadata": {},
     "output_type": "execute_result"
    }
   ],
   "source": [
    "pp1 is pp2"
   ]
  },
  {
   "cell_type": "markdown",
   "metadata": {},
   "source": [
    "#### samePoint는 x와 y를 비교하는 method이기 때문에 에러 "
   ]
  },
  {
   "cell_type": "code",
   "execution_count": 23,
   "metadata": {
    "collapsed": false
   },
   "outputs": [
    {
     "ename": "AttributeError",
     "evalue": "polarPoint instance has no attribute 'x'",
     "output_type": "error",
     "traceback": [
      "\u001b[0;31m---------------------------------------------------------------------------\u001b[0m",
      "\u001b[0;31mAttributeError\u001b[0m                            Traceback (most recent call last)",
      "\u001b[0;32m<ipython-input-23-802f8c1f1a01>\u001b[0m in \u001b[0;36m<module>\u001b[0;34m()\u001b[0m\n\u001b[0;32m----> 1\u001b[0;31m \u001b[0msamePoint\u001b[0m\u001b[0;34m(\u001b[0m\u001b[0mpp1\u001b[0m\u001b[0;34m,\u001b[0m\u001b[0mpp2\u001b[0m\u001b[0;34m)\u001b[0m\u001b[0;34m\u001b[0m\u001b[0m\n\u001b[0m",
      "\u001b[0;32m<ipython-input-10-f8aab5f49760>\u001b[0m in \u001b[0;36msamePoint\u001b[0;34m(p1, p2)\u001b[0m\n\u001b[1;32m      1\u001b[0m \u001b[0;32mdef\u001b[0m \u001b[0msamePoint\u001b[0m\u001b[0;34m(\u001b[0m\u001b[0mp1\u001b[0m\u001b[0;34m,\u001b[0m\u001b[0mp2\u001b[0m\u001b[0;34m)\u001b[0m\u001b[0;34m:\u001b[0m\u001b[0;34m\u001b[0m\u001b[0m\n\u001b[0;32m----> 2\u001b[0;31m     \u001b[0;32mreturn\u001b[0m \u001b[0;34m(\u001b[0m\u001b[0mp1\u001b[0m\u001b[0;34m.\u001b[0m\u001b[0mx\u001b[0m \u001b[0;34m==\u001b[0m \u001b[0mp2\u001b[0m\u001b[0;34m.\u001b[0m\u001b[0mx\u001b[0m\u001b[0;34m)\u001b[0m \u001b[0;32mand\u001b[0m \u001b[0;34m(\u001b[0m\u001b[0mp1\u001b[0m\u001b[0;34m.\u001b[0m\u001b[0my\u001b[0m \u001b[0;34m==\u001b[0m \u001b[0mp2\u001b[0m\u001b[0;34m.\u001b[0m\u001b[0my\u001b[0m\u001b[0;34m)\u001b[0m\u001b[0;34m\u001b[0m\u001b[0m\n\u001b[0m",
      "\u001b[0;31mAttributeError\u001b[0m: polarPoint instance has no attribute 'x'"
     ]
    }
   ],
   "source": [
    "samePoint(pp1,pp2) "
   ]
  },
  {
   "cell_type": "markdown",
   "metadata": {},
   "source": [
    "## Class "
   ]
  },
  {
   "cell_type": "markdown",
   "metadata": {},
   "source": [
    "<strong>template for creating instances of an object.</strong>\n",
    "<br><br>\n",
    "\\__init\\__ : data 초기화를 통해 인스턴스를 생성한다. <br>\n",
    "<br>\n",
    "self : 생성한 '그' 인스턴스를 부르기 위해 사용할 것임. 인스턴스의 포인터<br>\n",
    "왜 이러한 방식을 쓰냐고? (파이썬 설계자가 선택한 디자인..)\n",
    "<br>\n",
    "\\__str\\__ : 어떻게 프린트 되길 원하는지 (string으로서) <br>"
   ]
  },
  {
   "cell_type": "markdown",
   "metadata": {},
   "source": [
    "#### Method"
   ]
  },
  {
   "cell_type": "markdown",
   "metadata": {},
   "source": [
    "특정 인스턴스의 value에 접근할 수 있다.\n"
   ]
  },
  {
   "cell_type": "markdown",
   "metadata": {},
   "source": [
    "#### Data hiding"
   ]
  },
  {
   "cell_type": "markdown",
   "metadata": {},
   "source": [
    "데이터에 직접 접근하는 것은 막고 정의된 메소드를 통해서만 부를 수 있게,,,(x값에 정수가 아니라 문자열을 넣으면 안됌) 하지만 불행히도 파이썬은 이거 못함...(private)"
   ]
  },
  {
   "cell_type": "markdown",
   "metadata": {},
   "source": [
    "#### Operator overloading "
   ]
  },
  {
   "cell_type": "markdown",
   "metadata": {},
   "source": [
    "\\__cmp\\__ : 다른 인스턴스와의 값을 비교 <br>\n",
    "1. 첫 번째 값이 두 번째 값보다 작으면 -1\n",
    "2. 같으면 0\n",
    "3. 더 크면 1 리턴\n",
    "<br>\n",
    "\n",
    "\\__same\\__ : 같은지 비교 <br>"
   ]
  },
  {
   "cell_type": "code",
   "execution_count": 69,
   "metadata": {
    "collapsed": true
   },
   "outputs": [],
   "source": [
    "class cPoint:\n",
    "    def __init__(self,x,y):\n",
    "        self.x = x\n",
    "        self.y = y\n",
    "        self.radius = math.sqrt(self.x*self.x + self.y*self.y)\n",
    "        self.angle = math.atan2(self.y,self.x)\n",
    "    def cartesian(self):\n",
    "        return (self.x, self.y)\n",
    "    def polar(self):\n",
    "        return (self.radius, self.angle)\n",
    "    def __str__(self):\n",
    "        return '(' + str(self.x) + ',' + str(self.y) + ')'\n",
    "    def __cmp__(self, other):\n",
    "        return (self.x > other.x) and (self.y > other.y)"
   ]
  },
  {
   "cell_type": "code",
   "execution_count": 51,
   "metadata": {
    "collapsed": true
   },
   "outputs": [],
   "source": [
    "p = cPoint(1.0,2.0)"
   ]
  },
  {
   "cell_type": "code",
   "execution_count": 59,
   "metadata": {
    "collapsed": false
   },
   "outputs": [
    {
     "data": {
      "text/plain": [
       "<__main__.cPoint instance at 0x7f912c4ef098>"
      ]
     },
     "execution_count": 59,
     "metadata": {},
     "output_type": "execute_result"
    }
   ],
   "source": [
    "p"
   ]
  },
  {
   "cell_type": "code",
   "execution_count": 52,
   "metadata": {
    "collapsed": false
   },
   "outputs": [
    {
     "data": {
      "text/plain": [
       "(1.0, 2.0)"
      ]
     },
     "execution_count": 52,
     "metadata": {},
     "output_type": "execute_result"
    }
   ],
   "source": [
    "p.cartesian() # 일종의 접근자(data accessor)"
   ]
  },
  {
   "cell_type": "code",
   "execution_count": 53,
   "metadata": {
    "collapsed": false
   },
   "outputs": [
    {
     "data": {
      "text/plain": [
       "(2.23606797749979, 1.1071487177940904)"
      ]
     },
     "execution_count": 53,
     "metadata": {},
     "output_type": "execute_result"
    }
   ],
   "source": [
    "p.polar()"
   ]
  },
  {
   "cell_type": "code",
   "execution_count": 55,
   "metadata": {
    "collapsed": false
   },
   "outputs": [],
   "source": [
    "p.radius = 5.0"
   ]
  },
  {
   "cell_type": "code",
   "execution_count": 56,
   "metadata": {
    "collapsed": false
   },
   "outputs": [
    {
     "data": {
      "text/plain": [
       "(5.0, 1.1071487177940904)"
      ]
     },
     "execution_count": 56,
     "metadata": {},
     "output_type": "execute_result"
    }
   ],
   "source": [
    "p.polar()"
   ]
  },
  {
   "cell_type": "code",
   "execution_count": 65,
   "metadata": {
    "collapsed": false
   },
   "outputs": [
    {
     "data": {
      "text/plain": [
       "(1.0, 2.0)"
      ]
     },
     "execution_count": 65,
     "metadata": {},
     "output_type": "execute_result"
    }
   ],
   "source": [
    "p.cartesian() # radius를 바꿨지만 cartesian x는 안바뀜"
   ]
  },
  {
   "cell_type": "code",
   "execution_count": 60,
   "metadata": {
    "collapsed": true
   },
   "outputs": [],
   "source": [
    "q = cPoint(2.0,3.0)"
   ]
  },
  {
   "cell_type": "code",
   "execution_count": 70,
   "metadata": {
    "collapsed": false
   },
   "outputs": [
    {
     "data": {
      "text/plain": [
       "False"
      ]
     },
     "execution_count": 70,
     "metadata": {},
     "output_type": "execute_result"
    }
   ],
   "source": [
    "p < q"
   ]
  },
  {
   "cell_type": "code",
   "execution_count": 71,
   "metadata": {
    "collapsed": false
   },
   "outputs": [
    {
     "data": {
      "text/plain": [
       "['__cmp__',\n",
       " '__doc__',\n",
       " '__init__',\n",
       " '__module__',\n",
       " '__str__',\n",
       " 'angle',\n",
       " 'cartesian',\n",
       " 'polar',\n",
       " 'radius',\n",
       " 'x',\n",
       " 'y']"
      ]
     },
     "execution_count": 71,
     "metadata": {},
     "output_type": "execute_result"
    }
   ],
   "source": [
    "dir(p)"
   ]
  },
  {
   "cell_type": "code",
   "execution_count": 76,
   "metadata": {
    "collapsed": true
   },
   "outputs": [],
   "source": [
    "class Segment:\n",
    "    def __init__(self,start,end):\n",
    "        self.start = start\n",
    "        self.end = end\n",
    "    def length(self):\n",
    "        return math.sqrt( (self.start.x-self.end.x)*(self.start.x-self.end.x)\n",
    "                        + (self.start.y-self.end.y)*(self.start.y-self.end.y))"
   ]
  },
  {
   "cell_type": "code",
   "execution_count": 79,
   "metadata": {
    "collapsed": false
   },
   "outputs": [
    {
     "name": "stdout",
     "output_type": "stream",
     "text": [
      "3.60555127546\n"
     ]
    }
   ],
   "source": [
    "p1 = cPoint(3.0,4.0)\n",
    "p2 = cPoint(5.0,7.0)\n",
    "s1 = Segment(p1,p2)\n",
    "print s1.length()"
   ]
  },
  {
   "cell_type": "markdown",
   "metadata": {
    "collapsed": true
   },
   "source": [
    "# 상속, 쉐도잉, 캡슐화 "
   ]
  },
  {
   "cell_type": "markdown",
   "metadata": {},
   "source": [
    "Person 클래스를 정의하자!"
   ]
  },
  {
   "cell_type": "code",
   "execution_count": 16,
   "metadata": {
    "collapsed": false
   },
   "outputs": [],
   "source": [
    "class Person(object):\n",
    "    def __init__(self, family_name, first_name):\n",
    "        self.family_name = family_name\n",
    "        self.first_name = first_name\n",
    "    def familyName(self):\n",
    "        return self.family_name\n",
    "    def firstName(self):\n",
    "        return self.first_name\n",
    "    def __cmp__(self, other):\n",
    "        return cmp((self.family_name, self.first_name),\n",
    "                  (other.family_name, other.family_name))\n",
    "    def __str__(self):\n",
    "        return '<Person: %s %s>' % (self.first_name, self.family_name)\n",
    "    def say(self, toWhom, something):\n",
    "        return self.first_name + ' ' + self.family_name + ' says to ' + toWhom.firstName() + ' ' + toWhom.familyName() + ' ' + something\n",
    "    def sing(self, toWhom, something):\n",
    "        return self.say(toWhom, something + 'tra la la')"
   ]
  },
  {
   "cell_type": "code",
   "execution_count": 17,
   "metadata": {
    "collapsed": false
   },
   "outputs": [],
   "source": [
    "per = Person('foobar', 'Frank')\n",
    "per2 = Person('sd', 'Kim' )"
   ]
  },
  {
   "cell_type": "code",
   "execution_count": 18,
   "metadata": {
    "collapsed": false
   },
   "outputs": [
    {
     "name": "stdout",
     "output_type": "stream",
     "text": [
      "<Person: Frank foobar>\n",
      "Frank foobar says to Kim sd wow!\n"
     ]
    }
   ],
   "source": [
    "print per\n",
    "print per.say(per2, 'wow!')"
   ]
  },
  {
   "cell_type": "code",
   "execution_count": 19,
   "metadata": {
    "collapsed": false
   },
   "outputs": [
    {
     "name": "stdout",
     "output_type": "stream",
     "text": [
      "Frank foobar says to Kim sd hahatra la la\n"
     ]
    }
   ],
   "source": [
    "print per.sing(per2, 'haha')"
   ]
  },
  {
   "cell_type": "markdown",
   "metadata": {},
   "source": [
    "## 상속 "
   ]
  },
  {
   "cell_type": "markdown",
   "metadata": {},
   "source": [
    "SuerClass : Person <br>\n",
    "SubClass : MITPerson"
   ]
  },
  {
   "cell_type": "markdown",
   "metadata": {},
   "source": [
    "SuperClass는 SubClass로 메소드와 데이터를 상속한다. (참조가능하다)"
   ]
  },
  {
   "cell_type": "code",
   "execution_count": 24,
   "metadata": {
    "collapsed": true
   },
   "outputs": [],
   "source": [
    "class MITPerson(Person):\n",
    "    nextIDNum = 0 # local variable\n",
    "    def __init__(self, familyName, firstName):\n",
    "        Person.__init__(self, familyName, firstName)\n",
    "        self.IDNum = MITPerson.nextIDNum\n",
    "        MITPerson.nextIDNum+=1\n",
    "    def getIDNum(self):\n",
    "        return self.IDNum"
   ]
  },
  {
   "cell_type": "code",
   "execution_count": 25,
   "metadata": {
    "collapsed": true
   },
   "outputs": [],
   "source": [
    "p1 = MITPerson('foo','bar')"
   ]
  },
  {
   "cell_type": "code",
   "execution_count": 26,
   "metadata": {
    "collapsed": true
   },
   "outputs": [],
   "source": [
    "p2 = MITPerson('x','y')"
   ]
  },
  {
   "cell_type": "code",
   "execution_count": 27,
   "metadata": {
    "collapsed": false
   },
   "outputs": [
    {
     "data": {
      "text/plain": [
       "0"
      ]
     },
     "execution_count": 27,
     "metadata": {},
     "output_type": "execute_result"
    }
   ],
   "source": [
    "p1.getIDNum()"
   ]
  },
  {
   "cell_type": "code",
   "execution_count": 28,
   "metadata": {
    "collapsed": false
   },
   "outputs": [
    {
     "data": {
      "text/plain": [
       "1"
      ]
     },
     "execution_count": 28,
     "metadata": {},
     "output_type": "execute_result"
    }
   ],
   "source": [
    "p2.getIDNum()"
   ]
  },
  {
   "cell_type": "markdown",
   "metadata": {},
   "source": [
    "Person이 가지고 있던 메소드들을 상속받음!"
   ]
  },
  {
   "cell_type": "code",
   "execution_count": 29,
   "metadata": {
    "collapsed": false
   },
   "outputs": [
    {
     "name": "stdout",
     "output_type": "stream",
     "text": [
      "<Person: bar foo>\n"
     ]
    }
   ],
   "source": [
    "print p1"
   ]
  },
  {
   "cell_type": "code",
   "execution_count": 30,
   "metadata": {
    "collapsed": false
   },
   "outputs": [
    {
     "name": "stdout",
     "output_type": "stream",
     "text": [
      "<Person: y x>\n"
     ]
    }
   ],
   "source": [
    "print p2"
   ]
  },
  {
   "cell_type": "code",
   "execution_count": 31,
   "metadata": {
    "collapsed": false
   },
   "outputs": [
    {
     "data": {
      "text/plain": [
       "'bar foo says to y x hoo~'"
      ]
     },
     "execution_count": 31,
     "metadata": {},
     "output_type": "execute_result"
    }
   ],
   "source": [
    "p1.say(p2,\"hoo~\")"
   ]
  },
  {
   "cell_type": "code",
   "execution_count": 32,
   "metadata": {
    "collapsed": true
   },
   "outputs": [],
   "source": [
    "class UG(MITPerson):\n",
    "    def __init__(self, familyName, firstName):\n",
    "        MITPerson.__init__(self, familyName, firstName)\n",
    "        self.year = None\n",
    "    def setYear(self, year):\n",
    "        if year > 5: raise OverflowError('Too many')\n",
    "        self.year = year\n",
    "    def getYear(self):\n",
    "        return self.year\n",
    "    def say(self, toWhom, something):\n",
    "        return MITPerson.say(self,toWhom, 'Excuse me, but ' + something)"
   ]
  },
  {
   "cell_type": "markdown",
   "metadata": {},
   "source": [
    "몇 번을 상속받든 SuperClass로 거슬러 올라가서 받아올 수 있다."
   ]
  },
  {
   "cell_type": "code",
   "execution_count": 33,
   "metadata": {
    "collapsed": true
   },
   "outputs": [],
   "source": [
    "ug = UG('SD', 'K')"
   ]
  },
  {
   "cell_type": "markdown",
   "metadata": {},
   "source": [
    "## 쉐도잉 "
   ]
  },
  {
   "cell_type": "markdown",
   "metadata": {},
   "source": [
    "상속 받은 함수의 일부만 현클래스에 맞도록 수정해서 쓸 수 있다.\n",
    "<br>\n",
    "say 메소드에 'Excuse me, but ' 을 붙이듯이"
   ]
  },
  {
   "cell_type": "markdown",
   "metadata": {},
   "source": [
    "## 오버라이딩"
   ]
  },
  {
   "cell_type": "code",
   "execution_count": 34,
   "metadata": {
    "collapsed": false
   },
   "outputs": [
    {
     "data": {
      "text/plain": [
       "'K SD says to bar foo Excuse me, but hoho'"
      ]
     },
     "execution_count": 34,
     "metadata": {},
     "output_type": "execute_result"
    }
   ],
   "source": [
    "ug.say(p1, \"hoho\")"
   ]
  },
  {
   "cell_type": "code",
   "execution_count": 37,
   "metadata": {
    "collapsed": false
   },
   "outputs": [
    {
     "data": {
      "text/plain": [
       "True"
      ]
     },
     "execution_count": 37,
     "metadata": {},
     "output_type": "execute_result"
    }
   ],
   "source": [
    "ug < per"
   ]
  },
  {
   "cell_type": "code",
   "execution_count": null,
   "metadata": {
    "collapsed": true
   },
   "outputs": [],
   "source": []
  }
 ],
 "metadata": {
  "kernelspec": {
   "display_name": "Python 2",
   "language": "python",
   "name": "python2"
  },
  "language_info": {
   "codemirror_mode": {
    "name": "ipython",
    "version": 2
   },
   "file_extension": ".py",
   "mimetype": "text/x-python",
   "name": "python",
   "nbconvert_exporter": "python",
   "pygments_lexer": "ipython2",
   "version": "2.7.6"
  }
 },
 "nbformat": 4,
 "nbformat_minor": 1
}
