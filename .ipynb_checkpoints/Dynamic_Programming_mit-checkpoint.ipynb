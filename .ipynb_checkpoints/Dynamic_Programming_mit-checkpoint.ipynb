{
 "cells": [
  {
   "cell_type": "markdown",
   "metadata": {},
   "source": [
    "# Optimization Problems "
   ]
  },
  {
   "cell_type": "markdown",
   "metadata": {},
   "source": [
    "모든 Optimization problems은 같다.(일반적으로!)\n",
    "\n",
    "- A funtion to maximize(minimize)\n",
    "- A set of constraints\n",
    "<hr>\n",
    "가장 대중적인 Optimization problem은 <strong>shortest path</strong>(최단거리 구하기) 문제이다.\n",
    "* Minimize time(시간을 최소화 하거나)\n",
    "* Minimize distance(거리를 최소화 하거나)\n",
    "등등\n",
    "<hr>\n",
    "또 다른 problem은 <strong>Traveling salesperson</strong> 문제이다.(TPS)\n",
    "도시의 숫자가 주어지고, 한 도시에서 다른 도시로 비행기를 타고 갈 때의 비용을 알려준다. 그렇다면 그 도시들을 돌아다닐 최소비용은 어떻게 되느냐?(여행루트를 어떻게 짜야 하는가)\n",
    "<hr>\n",
    "<strong>Bin packing</strong>\n",
    "어떤 컨테이너를 다양한 사이즈와 모양의 물체들로 채우는데 어떤 물체들을 얼마나 채워야 최대한 꽉꽉 채울 수 있을까?\n",
    "<hr>\n",
    "<strong>Sequence alignment problems</strong>\n",
    "<hr>\n",
    "<strong>Kanpsack problem</strong> (오늘 중점적으로 살펴볼 문제!)\n",
    "역시 배낭을 쌀 때 어떤 물건들을 얼마나 채워야 하는지에 관한 문제(배낭의 크기라는 제약조건을 지키는 하에 최대한의 value를 가지도록 싸야 한다)\n"
   ]
  },
  {
   "cell_type": "markdown",
   "metadata": {},
   "source": [
    "### Problem Reduction "
   ]
  },
  {
   "cell_type": "markdown",
   "metadata": {},
   "source": [
    "전에 본 적 없는 문제를 마주했을 때, 어떻게 하나!\n",
    "- 다른 사람들이 그 문제를 어떻게 풀었는지 찾아본다.(존재한다면)\n",
    "- 그 문제를 내가 풀었던 Old solution에 매핑해본다.(이거 옛날에 내가 했었던 xxx랑 비슷하잖아?? 그걸로 해봐야겠다!)"
   ]
  },
  {
   "cell_type": "markdown",
   "metadata": {},
   "source": [
    "## Continuous knapsack problem"
   ]
  },
  {
   "cell_type": "markdown",
   "metadata": {},
   "source": [
    "당신이 도둑이라 생각해보세요. 집을 털러 들어갔고 금, 은, 동의 dust(필요한 만큼 가져갈 수 있다)가 있을 때 어떤식으로 훔쳐야 최대의 가치를 가질까?\n",
    "\n",
    "CG(cost of Gold)xPG(Pounds of Gold) + CSxCP + CRxCP 를 maximize\n",
    "PG+PS+PR <= 8(constraints)"
   ]
  },
  {
   "cell_type": "markdown",
   "metadata": {},
   "source": [
    "### 1. Greedy algorithm "
   ]
  },
  {
   "cell_type": "markdown",
   "metadata": {},
   "source": [
    "그 당시의 이익을 최대화한다. (미래의 가치는 상관하지 않고)\n",
    "greedy가 이 Continuous knapsack problem을 푸는 좋은 솔루션이 될 수도 있다.\n",
    "\n",
    "* Locally optimal decisions do not always lead to a global optimums"
   ]
  },
  {
   "cell_type": "markdown",
   "metadata": {},
   "source": [
    "## Zero-one knapsack problem "
   ]
  },
  {
   "cell_type": "markdown",
   "metadata": {},
   "source": [
    "knapsack problem의 descrete version\n",
    "\n",
    "우리는 n개의 items이 있고 배낭에 그 아이템을 넣거나(1) 아예 넣지 않아야(0) 한다(왜냐하면 dust와는 달리 쪼갤 수 없는 descrete한 아이템이기 때문) 역시 모든 아이템은 weights와 values를 가진다.\n",
    "\n",
    "* 아주 성실한 도둑은 배낭을 싸고 가치를 매긴 후 다시 꺼내고 다시 싸고 하는 과정을 통해 모두 비교해보고 최종 승자를 정할 수도 있다. 위의 greedy 알고리즘과 비슷해보이지만 다르다. 이것은 brute-force algorithm이다. (다해보고 고르기) 하지만 이건 너무 오래 걸린다..이짓하다간 감옥간다!"
   ]
  },
  {
   "cell_type": "markdown",
   "metadata": {},
   "source": [
    "Sum(PiXi) (P는 가치)(X는 0 or 1) maximize!\n",
    "\n",
    "Sum(WiXi) <= C (W는 무게) \n",
    "\n",
    "* Brute force 알고리즘은 2^n (Exponential) 아이템의 수에 따라 지수적으로 증가한다 (이러한 증가는 n^2와 비교해보았을 때 끔찍)"
   ]
  },
  {
   "cell_type": "markdown",
   "metadata": {},
   "source": [
    "## Dynamic Programming "
   ]
  },
  {
   "cell_type": "markdown",
   "metadata": {},
   "source": [
    "수학자 Bellman에 의해 고안 (다이나믹이라는 이름은 그냥 멋있어서 지은 것...)"
   ]
  },
  {
   "cell_type": "markdown",
   "metadata": {},
   "source": [
    "### Overlapping sub-problems"
   ]
  },
  {
   "cell_type": "markdown",
   "metadata": {},
   "source": [
    "우리가 전에 했었던 것은 큰 문제를 recursive하게 더 작은 문제로 쪼갠 다음에 divde conquer하는 방식이었다. 하지만 이는 현재 문제와 더 작은 문제가 overlapping되기 때문에 연산량이 많다. (큰 숫자를 인풋으로 집어넣으면 그 양은 훨씬 많아 질 것임.)\n",
    "fib 함수에 10만 집어 넣어도 177번으로 증가한다!!"
   ]
  },
  {
   "cell_type": "code",
   "execution_count": 4,
   "metadata": {
    "collapsed": true
   },
   "outputs": [],
   "source": [
    "def fib(n):\n",
    "    global numCalls # 함수를 몇번 call하는 카운트\n",
    "    numCalls += 1\n",
    "    #print 'fib called with', n\n",
    "    if n <= 1:\n",
    "        return 1\n",
    "    else:\n",
    "        return fib(n-1) + fib(n-2)"
   ]
  },
  {
   "cell_type": "code",
   "execution_count": 8,
   "metadata": {
    "collapsed": false
   },
   "outputs": [
    {
     "name": "stdout",
     "output_type": "stream",
     "text": [
      "fib of 6 = 13 numCalls = 25\n"
     ]
    }
   ],
   "source": [
    "numCalls = 0\n",
    "n = 6\n",
    "res = fib(n)\n",
    "print 'fib of', n, '=', res, 'numCalls =', numCalls"
   ]
  },
  {
   "cell_type": "code",
   "execution_count": 6,
   "metadata": {
    "collapsed": false
   },
   "outputs": [
    {
     "name": "stdout",
     "output_type": "stream",
     "text": [
      "177\n"
     ]
    }
   ],
   "source": [
    "numCalls = 0\n",
    "fib(10)\n",
    "print numCalls"
   ]
  },
  {
   "cell_type": "markdown",
   "metadata": {},
   "source": [
    "왜 이렇게 연산량이 증폭하는 것일까? 같은 연산을 또 하고 또 하기 때문.! (redundant computation!)"
   ]
  },
  {
   "cell_type": "markdown",
   "metadata": {},
   "source": [
    "###  Memoization"
   ]
  },
  {
   "cell_type": "markdown",
   "metadata": {},
   "source": [
    "Record value 1st time(한 번 연산했던 값을 저장해두고)\n",
    "\n",
    "Then look it up subsuquently(후에 같은 연산이 등장하면 그 값을 찾아본다. 다시 연산하는 것이 아니라)"
   ]
  },
  {
   "cell_type": "code",
   "execution_count": 6,
   "metadata": {
    "collapsed": true
   },
   "outputs": [],
   "source": [
    "def fastFib(n, memo):\n",
    "    global numCalls\n",
    "    numCalls += 1\n",
    "    #print 'fib1 called with', n\n",
    "    if not n in memo:\n",
    "        memo[n] = fastFib(n-1,memo) + fastFib(n-2,memo)\n",
    "    return memo[n]\n",
    "\n",
    "def fib1(n):\n",
    "    memo = {0:1, 1:1} # 2개를 이미 연산해둠\n",
    "    return fastFib(n, memo)"
   ]
  },
  {
   "cell_type": "markdown",
   "metadata": {},
   "source": [
    "2개를 먼저 연산해뒀더니 연산량이 25 -> 11로 줄어들었음"
   ]
  },
  {
   "cell_type": "code",
   "execution_count": 7,
   "metadata": {
    "collapsed": false
   },
   "outputs": [
    {
     "name": "stdout",
     "output_type": "stream",
     "text": [
      "fib of 6 = 13 numCalls = 11\n"
     ]
    }
   ],
   "source": [
    "numCalls = 0\n",
    "n = 6\n",
    "res = fib1(n)\n",
    "print 'fib of', n, '=', res, 'numCalls =', numCalls"
   ]
  },
  {
   "cell_type": "markdown",
   "metadata": {},
   "source": [
    "더 큰 숫자로 해보면 그 차이가 어마어마어마함!! 2692537 -> 59"
   ]
  },
  {
   "cell_type": "code",
   "execution_count": 10,
   "metadata": {
    "collapsed": false
   },
   "outputs": [
    {
     "name": "stdout",
     "output_type": "stream",
     "text": [
      "fib of 30 = 1346269 numCalls = 2692537\n",
      "fib of 30 = 1346269 numCalls = 59\n"
     ]
    }
   ],
   "source": [
    "numCalls = 0\n",
    "n = 30\n",
    "res = fib(n)\n",
    "print 'fib of', n, '=', res, 'numCalls =', numCalls\n",
    "\n",
    "numCalls = 0\n",
    "n = 30\n",
    "res = fib1(n)\n",
    "print 'fib of', n, '=', res, 'numCalls =', numCalls"
   ]
  },
  {
   "cell_type": "markdown",
   "metadata": {},
   "source": [
    "### Table lookup "
   ]
  },
  {
   "cell_type": "markdown",
   "metadata": {},
   "source": [
    "memoization의 일반화 버전"
   ]
  },
  {
   "cell_type": "markdown",
   "metadata": {},
   "source": [
    "### Optimal substructure"
   ]
  },
  {
   "cell_type": "markdown",
   "metadata": {
    "collapsed": true
   },
   "source": [
    "메인 아이디어는 locally optimal solutions으로부터 global optimal solution을 얻을 수 있다는 것이다. 다시 0-1 knapsack으로 돌아가보자\n",
    "\n",
    "* Decision tree\n",
    "<hr>\n",
    "W = [5,3,2] <br>\n",
    "max weight : 5 <br>\n",
    "V = [9,7,8] <br>\n",
    "possible한 solution을 가지를 타고 내려가면서 찾는다.(역시 exponential)"
   ]
  },
  {
   "cell_type": "code",
   "execution_count": 19,
   "metadata": {
    "collapsed": true
   },
   "outputs": [],
   "source": [
    "from IPython.display import Image"
   ]
  },
  {
   "cell_type": "code",
   "execution_count": 20,
   "metadata": {
    "collapsed": false
   },
   "outputs": [
    {
     "data": {
      "image/png": "[encoded data removed]",
      "text/plain": [
       "<IPython.core.display.Image object>"
      ]
     },
     "execution_count": 20,
     "metadata": {},
     "output_type": "execute_result"
    }
   ],
   "source": [
    "Image(\"images/dp1.png\")"
   ]
  },
  {
   "cell_type": "code",
   "execution_count": 11,
   "metadata": {
    "collapsed": true
   },
   "outputs": [],
   "source": [
    "def maxVal(w,v,i, aW):\n",
    "    \"\"\"w=무게, v=가치, i=인덱스, aW= available Weights\"\"\"\n",
    "    #print 'maxVal called with', i, aW\n",
    "    global numCalls\n",
    "    numCalls += 1\n",
    "    if i == 0:\n",
    "        if w[i] <= aW: return v[i]\n",
    "        else: return 0\n",
    "    without_i = maxVal(w,v,i-1,aW)\n",
    "    if w[i] > aW:\n",
    "        return without_i\n",
    "    else:\n",
    "        with_i = v[i] + maxVal(w,v,i-1,aW-w[i])\n",
    "    return max(with_i, without_i)"
   ]
  },
  {
   "cell_type": "code",
   "execution_count": 12,
   "metadata": {
    "collapsed": false
   },
   "outputs": [
    {
     "name": "stdout",
     "output_type": "stream",
     "text": [
      "max Val =  29 number of calls =  13\n"
     ]
    }
   ],
   "source": [
    "weights = [1, 5, 3, 4]\n",
    "vals = [15, 10, 9, 5]\n",
    "numCalls = 0\n",
    "res = maxVal(weights, vals, len(vals)-1, 8)\n",
    "print 'max Val = ', res, 'number of calls = ', numCalls"
   ]
  },
  {
   "cell_type": "code",
   "execution_count": 13,
   "metadata": {
    "collapsed": false
   },
   "outputs": [
    {
     "name": "stdout",
     "output_type": "stream",
     "text": [
      "max Val =  48 number of calls =  85\n"
     ]
    }
   ],
   "source": [
    "weights = [1, 1, 5, 5, 3, 3, 4, 4]\n",
    "vals = [15, 15, 10, 10, 9, 9, 5, 5]\n",
    "numCalls = 0\n",
    "res = maxVal(weights, vals, len(vals)-1, 8)\n",
    "print 'max Val = ', res, 'number of calls = ', numCalls"
   ]
  },
  {
   "cell_type": "markdown",
   "metadata": {},
   "source": [
    "아이템 수를 2배로 늘렸을 때 call수가 확 증가했다. 아이템 수를 40개로 하면 1700만의 call을 하게 됌 ㄷㄷ<br>\n",
    "역시나 같은 computation을 중복해서 수행하기 때문이다..!!!"
   ]
  },
  {
   "cell_type": "code",
   "execution_count": 14,
   "metadata": {
    "collapsed": true
   },
   "outputs": [],
   "source": [
    "def fastMaxVal(w, v, i, aW, m):\n",
    "    global numCalls\n",
    "    numCalls += 1\n",
    "    try: return m[(i, aW)]\n",
    "    except KeyError:\n",
    "        if i == 0:\n",
    "            if w[i] <= aW:\n",
    "                m[(i, aW)] = v[i]\n",
    "                return v[i]\n",
    "            else:\n",
    "                m[(i, aW)] = 0\n",
    "                return 0\n",
    "        without_i = fastMaxVal(w, v, i-1, aW, m)\n",
    "        if w[i] > aW:\n",
    "            m[(i, aW)] = without_i\n",
    "            return without_i\n",
    "        else:\n",
    "            with_i = v[i] + fastMaxVal(w, v, i-1, aW-w[i], m)\n",
    "        res = max(with_i, without_i)\n",
    "        m[(i, aW)] = res\n",
    "        return res\n",
    "\n",
    "def maxVal0(w, v, i, aW):\n",
    "    m = {}\n",
    "    return fastMaxVal(w, v, i, aW, m)"
   ]
  },
  {
   "cell_type": "code",
   "execution_count": 16,
   "metadata": {
    "collapsed": false
   },
   "outputs": [
    {
     "name": "stdout",
     "output_type": "stream",
     "text": [
      "max Val =  48 number of calls =  50\n"
     ]
    }
   ],
   "source": [
    "weights = [1, 1, 5, 5, 3, 3, 4, 4]\n",
    "vals = [15, 15, 10, 10, 9, 9, 5, 5]\n",
    "numCalls = 0\n",
    "res = maxVal0(weights, vals, len(vals)-1, 8)\n",
    "print 'max Val = ', res, 'number of calls = ', numCalls"
   ]
  },
  {
   "cell_type": "markdown",
   "metadata": {},
   "source": [
    "역시 memoization을 사용하여 연산량이 85 -> 50으로 줄어들었음 <br>\n",
    "아이템 40개의 경우 1700만 -> 1805 로 확! 줄어든다!"
   ]
  },
  {
   "cell_type": "markdown",
   "metadata": {},
   "source": [
    "## Analysis "
   ]
  },
  {
   "cell_type": "markdown",
   "metadata": {},
   "source": [
    "이러한 성능 개선은 한번 계산했던 것은 다시 계산하지 않고 just look up(예전에 했던 것을 찾아본다)에서 나온다.\n",
    "<br>\n",
    "Decision Tree와 같은 Optimal substructure는 classical한 divde & conquer의 형식을 보여준다. 다만 내려가볼 필요가 없다면 내려가보지 않고 복귀한다?"
   ]
  },
  {
   "cell_type": "markdown",
   "metadata": {},
   "source": [
    "O(ns) <br>\n",
    "n : 아이템수, s : knapsack size <br>\n",
    "\n",
    "But!"
   ]
  },
  {
   "cell_type": "markdown",
   "metadata": {},
   "source": [
    "### Size of solution "
   ]
  },
  {
   "cell_type": "markdown",
   "metadata": {},
   "source": [
    "흥미롭게도 이 알고리즘의 성능은 Size of solution에 달려있다.\n",
    "즉, 내가 계산하고 기억하고 있어야 할 memo의 크기에 의존한다?"
   ]
  },
  {
   "cell_type": "markdown",
   "metadata": {},
   "source": [
    "### Pseudo polynomial "
   ]
  },
  {
   "cell_type": "markdown",
   "metadata": {},
   "source": [
    "In computational complexity theory, a numeric algorithm runs in pseudo-polynomial time if its running time is polynomial in the numeric value of the input, but is exponential in the length of the input – the number of bits required to represent it."
   ]
  },
  {
   "cell_type": "markdown",
   "metadata": {},
   "source": [
    "하지만 당신은 size of problem과 size of solution을 제대로 이해할 수 있는가? 알고리즘의 성능을 얘기할 땐 미묘해질 수 밖에 없다...\n",
    "<br>\n",
    "O(n^2) // n은 size of solution?"
   ]
  },
  {
   "cell_type": "markdown",
   "metadata": {},
   "source": [
    "## Variation of knapsack problem "
   ]
  },
  {
   "cell_type": "markdown",
   "metadata": {},
   "source": [
    "weight뿐 아니라 volume까지도 제약조건이 걸려있다고 생각해보자 <br>\n",
    "역시나 먼저 해야 할 일은 수식으로 나타내는 것!\n",
    "\n",
    "Sum(PX)  // maximize it (X는 0 or 1)<br>\n",
    "Sum(WX) <= C & Sum(VX) <= K <br>\n",
    "<br>\n",
    "available한 weight뿐 아니라 available한 value까지 체크한다"
   ]
  },
  {
   "cell_type": "markdown",
   "metadata": {},
   "source": [
    "## Conclusion "
   ]
  },
  {
   "cell_type": "markdown",
   "metadata": {},
   "source": [
    "1. Dynamic Prog trades time for space. ( Table lookup )\n",
    "2. Don't be intimidated by exponential problem.\n",
    "3. Dynamic Prog broadly useful.\n",
    "4. Problem reduction(go to Google!)"
   ]
  }
 ],
 "metadata": {
  "kernelspec": {
   "display_name": "Python 2",
   "language": "python",
   "name": "python2"
  },
  "language_info": {
   "codemirror_mode": {
    "name": "ipython",
    "version": 2
   },
   "file_extension": ".py",
   "mimetype": "text/x-python",
   "name": "python",
   "nbconvert_exporter": "python",
   "pygments_lexer": "ipython2",
   "version": "2.7.6"
  }
 },
 "nbformat": 4,
 "nbformat_minor": 1
}
